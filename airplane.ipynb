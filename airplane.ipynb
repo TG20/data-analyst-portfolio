{
 "cells": [
  {
   "cell_type": "markdown",
   "metadata": {},
   "source": [
    "# Investigating Airport Accidents\n",
    "\n",
    "Accidents are an unfortunate incident when it comes to air traveling. Although flying is statistically safer than driving, accidents--whether minor or significant--occur daily.\n",
    "\n",
    "The pipeline character separates the data points and prevents meaningful analysis. So, the first step is to clean the data and structure it in a format that is easier to read and do an exploratory analysis. The last step is to do some comparative study:\n",
    "- Measure accidents by state\n",
    "- Measuring fatalities and injuries by month\n",
    "- Measure accidents by air carriers "
   ]
  },
  {
   "cell_type": "code",
   "execution_count": 1,
   "metadata": {
    "collapsed": true
   },
   "outputs": [],
   "source": [
    "#Load libraries \n",
    "\n",
    "from collections import Counter, defaultdict\n",
    "import matplotlib.pyplot as plt\n",
    "import numpy as np\n",
    "%matplotlib inline"
   ]
  },
  {
   "cell_type": "code",
   "execution_count": 3,
   "metadata": {
    "collapsed": false
   },
   "outputs": [
    {
     "data": {
      "text/plain": [
       "['Event Id | Investigation Type | Accident Number | Event Date | Location | Country | Latitude | Longitude | Airport Code | Airport Name | Injury Severity | Aircraft Damage | Aircraft Category | Registration Number | Make | Model | Amateur Built | Number of Engines | Engine Type | FAR Description | Schedule | Purpose of Flight | Air Carrier | Total Fatal Injuries | Total Serious Injuries | Total Minor Injuries | Total Uninjured | Weather Condition | Broad Phase of Flight | Report Status | Publication Date | \\n',\n",
       " '20150908X74637 | Accident | CEN15LA402 | 09/08/2015 | Freeport, IL | United States | 42.246111 | -89.581945 | KFEP | albertus Airport | Non-Fatal | Substantial | Unknown | N24TL | CLARKE REGINALD W | DRAGONFLY MK |  |  |  | Part 91: General Aviation |  | Personal |  |  | 1 |  |  | VMC | TAKEOFF | Preliminary | 09/09/2015 | \\n',\n",
       " '20150906X32704 | Accident | ERA15LA339 | 09/05/2015 | Laconia, NH | United States | 43.606389 | -71.452778 | LCI | Laconia Municipal Airport | Fatal(1) | Substantial | Weight-Shift | N2264X | EVOLUTION AIRCRAFT INC | REVO | No | 1 | Reciprocating | Part 91: General Aviation |  | Personal |  | 1 |  |  |  | VMC | MANEUVERING | Preliminary | 09/10/2015 | \\n']"
      ]
     },
     "execution_count": 3,
     "metadata": {},
     "output_type": "execute_result"
    }
   ],
   "source": [
    "aviation_data = list(open(\"data-sets/AviationData.txt\", 'r'))\n",
    "aviation_data[:3]"
   ]
  },
  {
   "cell_type": "code",
   "execution_count": 46,
   "metadata": {
    "collapsed": false
   },
   "outputs": [
    {
     "name": "stdout",
     "output_type": "stream",
     "text": [
      "[['20001218X45447', 'Accident', 'LAX94LA336', '07/19/1962', 'BRIDGEPORT, CA', 'United States', '', '', '', '', 'Fatal(4)', 'Destroyed', '', 'N5069P', 'PIPER', 'PA24-180', 'No', '1', 'Reciprocating', '', '', 'Personal', '', '4', '0', '0', '0', 'UNK', 'UNKNOWN', 'Probable Cause', '09/19/1996', '\\n', [...]]]\n"
     ]
    }
   ],
   "source": [
    "#remove pipeline character\n",
    "aviation_list = [data.split(\" | \") for data in aviation_data]\n",
    "\n",
    "def linear_search(data):\n",
    "    '''function takes in one argument and returns a specific row'''\n",
    "    return [row.append(row) or row for row in aviation_list if data in row] \n",
    "aviation_search = linear_search(\"LAX94LA336\")\n",
    "print(aviation_search)"
   ]
  },
  {
   "cell_type": "markdown",
   "metadata": {},
   "source": [
    "The above process takes exponential time since it has to loop through each row and column. Also, the difficulty in manipulating data in the list cannot be understated."
   ]
  },
  {
   "cell_type": "code",
   "execution_count": 49,
   "metadata": {
    "collapsed": false
   },
   "outputs": [
    {
     "data": {
      "text/plain": [
       "[{'\\n': '\\n',\n",
       "  'Accident Number': 'LAX94LA336',\n",
       "  'Air Carrier': '',\n",
       "  'Aircraft Category': '',\n",
       "  'Aircraft Damage': 'Destroyed',\n",
       "  'Airport Code': '',\n",
       "  'Airport Name': '',\n",
       "  'Amateur Built': 'No',\n",
       "  'Broad Phase of Flight': 'UNKNOWN',\n",
       "  'Country': 'United States',\n",
       "  'Engine Type': 'Reciprocating',\n",
       "  'Event Date': '07/19/1962',\n",
       "  'Event Id': '20001218X45447',\n",
       "  'FAR Description': '',\n",
       "  'Injury Severity': 'Fatal(4)',\n",
       "  'Investigation Type': 'Accident',\n",
       "  'Latitude': '',\n",
       "  'Location': 'BRIDGEPORT, CA',\n",
       "  'Longitude': '',\n",
       "  'Make': 'PIPER',\n",
       "  'Model': 'PA24-180',\n",
       "  'Number of Engines': '1',\n",
       "  'Publication Date': '09/19/1996',\n",
       "  'Purpose of Flight': 'Personal',\n",
       "  'Registration Number': 'N5069P',\n",
       "  'Report Status': 'Probable Cause',\n",
       "  'Schedule': '',\n",
       "  'Total Fatal Injuries': '4',\n",
       "  'Total Minor Injuries': '0',\n",
       "  'Total Serious Injuries': '0',\n",
       "  'Total Uninjured': '0',\n",
       "  'Weather Condition': 'UNK'}]"
      ]
     },
     "execution_count": 49,
     "metadata": {},
     "output_type": "execute_result"
    }
   ],
   "source": [
    "#grab header\n",
    "header = aviation_data[0].split(\" | \")\n",
    "#loop through aviation_data and return a dictionary\n",
    "aviation_dict_list = [dict(zip(header,data.split(\" | \"))) for data in aviation_data[1:]]\n",
    "def hash_search(data):\n",
    "    '''function takes in one argument and returns a specific key-value pair'''\n",
    "    return [row for row in aviation_dict_list if data in row.values()]\n",
    "aviation_search = hash_search(\"LAX94LA336\")\n",
    "aviation_search"
   ]
  },
  {
   "cell_type": "markdown",
   "metadata": {},
   "source": [
    "The above process places the headers in the correct place and makes it easier to analyze the data."
   ]
  },
  {
   "cell_type": "markdown",
   "metadata": {},
   "source": [
    "## Measuring Accidents by State"
   ]
  },
  {
   "cell_type": "code",
   "execution_count": 55,
   "metadata": {
    "collapsed": false
   },
   "outputs": [
    {
     "data": {
      "image/png": "[encoded data removed]",
      "text/plain": [
       "<matplotlib.figure.Figure at 0x7f7b2ff41cf8>"
      ]
     },
     "metadata": {},
     "output_type": "display_data"
    }
   ],
   "source": [
    "state_accidents = dict()\n",
    "for row in aviation_dict_list:\n",
    "    if row[\"Country\"] == \"United States\" and \", \" in row[\"Location\"]:\n",
    "        states = row[\"Location\"].split(\", \")[1]\n",
    "        #return key value\n",
    "        state_accidents[states] = state_accidents.get(states,0) + 1\n",
    "\n",
    "#Grab the top 5 accidents that accured by state and plot them\n",
    "top_5_state_accidents = dict(Counter(state_accidents).most_common(5))\n",
    "label, value = zip(*top_5_state_accidents.items())\n",
    "idx = np.arange(len(label))\n",
    "plt.bar(idx,value)\n",
    "plt.xticks(idx, label)\n",
    "plt.ylabel(\"Number of Accidents\")\n",
    "plt.title(\"State Accidents\")\n",
    "plt.show()"
   ]
  },
  {
   "cell_type": "markdown",
   "metadata": {},
   "source": [
    "The states with the highest total of accidents are California, Florida, Texas, Alaska, and Arizona. Since this dataset does not contain the number of successful flight hours, we cannot gauge a fair statistical comparison between states."
   ]
  },
  {
   "cell_type": "markdown",
   "metadata": {},
   "source": [
    "## Finding Fatalities and Injuries by Month"
   ]
  },
  {
   "cell_type": "code",
   "execution_count": 44,
   "metadata": {
    "collapsed": false
   },
   "outputs": [
    {
     "data": {
      "text/plain": [
       "{'August': [4855, 2069], 'July': [5001, 2002], 'September': [4027, 1502]}"
      ]
     },
     "execution_count": 44,
     "metadata": {},
     "output_type": "execute_result"
    }
   ],
   "source": [
    "map_month = {\n",
    "    \"01\": \"January\",\n",
    "    \"02\": \"February\",\n",
    "    \"03\": \"March\",\n",
    "    \"04\": \"April\",\n",
    "    \"05\": \"May\",\n",
    "    \"06\": \"June\",\n",
    "    \"07\": \"July\",\n",
    "    \"08\": \"August\",\n",
    "    \"09\": \"September\",\n",
    "    \"10\": \"October\",\n",
    "    \"11\": \"November\",\n",
    "    \"12\": \"December\",\n",
    "}\n",
    "monthly_injuries = defaultdict(lambda: [0,0])\n",
    "for row in aviation_dict_list:\n",
    "    month = row['Event Date'].split(\"/\")[0]\n",
    "    if month != \"\":\n",
    "        month = map_month[month]\n",
    "    for idx, value in enumerate([\"Total Fatal Injuries\", \"Total Serious Injuries\"]):\n",
    "        if row[value] != \"\":\n",
    "            monthly_injuries[month][idx] += int(row[value])\n",
    "        else:\n",
    "            monthly_injuries[month][idx] += 0\n",
    "\n",
    "dict(Counter(monthly_injuries).most_common(3))"
   ]
  },
  {
   "cell_type": "markdown",
   "metadata": {},
   "source": [
    "## Findings\n",
    "\n",
    "From left to write reads the following: month, total fatalities, and total injuries. The months with the most fatalities and injuries are July, August, and September. It is not surprising since these are summer months; months that people travel frequently. "
   ]
  },
  {
   "cell_type": "markdown",
   "metadata": {},
   "source": [
    "## Measuring Accidents by Air Carriers"
   ]
  },
  {
   "cell_type": "code",
   "execution_count": 53,
   "metadata": {
    "collapsed": false
   },
   "outputs": [
    {
     "data": {
      "image/png": "[encoded data removed]",
      "text/plain": [
       "<matplotlib.figure.Figure at 0x7f7b3320f4e0>"
      ]
     },
     "metadata": {},
     "output_type": "display_data"
    }
   ],
   "source": [
    "carrier_accidents = dict()\n",
    "for row in aviation_dict_list:\n",
    "    if row[\"Air Carrier\"] != \"\":\n",
    "        carrier = row[\"Air Carrier\"][0:]\n",
    "        #return key value\n",
    "        carrier_accidents[carrier] = carrier_accidents.get(carrier,0) + 1\n",
    "\n",
    "#Grab the top 10 carrier accidents and plot them\n",
    "top_10_carrier_accidents = dict(Counter(carrier_accidents).most_common(10))\n",
    "label, value = zip(*top_10_carrier_accidents.items())\n",
    "idx = np.arange(len(label))\n",
    "plt.bar(idx,value)\n",
    "plt.xticks(idx, label, rotation=90)\n",
    "plt.ylabel(\"Number of Accidents\")\n",
    "plt.title(\"Air Carrier Accidents\")\n",
    "plt.show()"
   ]
  },
  {
   "cell_type": "markdown",
   "metadata": {},
   "source": [
    "United and American Airlines lead the way with the most accidents. United Air Lines Inc and US Airways have the fewest accidents in comparison. "
   ]
  },
  {
   "cell_type": "markdown",
   "metadata": {},
   "source": [
    "## Conclusion\n",
    "\n",
    "More can analysis can be done with this data set. It would be interesting to see airline accidents on a map. A time series could be used to plot each point and see if the overall trend of accidents. "
   ]
  }
 ],
 "metadata": {
  "kernelspec": {
   "display_name": "Python 3",
   "language": "python",
   "name": "python3"
  },
  "language_info": {
   "codemirror_mode": {
    "name": "ipython",
    "version": 3
   },
   "file_extension": ".py",
   "mimetype": "text/x-python",
   "name": "python",
   "nbconvert_exporter": "python",
   "pygments_lexer": "ipython3",
   "version": "3.6.0"
  }
 },
 "nbformat": 4,
 "nbformat_minor": 2
}
