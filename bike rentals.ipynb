{
 "cells": [
  {
   "cell_type": "markdown",
   "metadata": {},
   "source": [
    "# Predicting Bike Rentals\n",
    "\n",
    "This notebook tries to predict the total number of bike rentals per hour on a single day using the dataset compiled by Hadi Fanaee-T. You can download it from the [University of California, Irvine's website](https://archive.ics.uci.edu/ml/datasets/Bike+Sharing+Dataset)."
   ]
  },
  {
   "cell_type": "code",
   "execution_count": 1,
   "metadata": {
    "collapsed": false
   },
   "outputs": [
    {
     "data": {
      "text/html": [
       "<div>\n",
       "<table border=\"1\" class=\"dataframe\">\n",
       "  <thead>\n",
       "    <tr style=\"text-align: right;\">\n",
       "      <th></th>\n",
       "      <th>instant</th>\n",
       "      <th>dteday</th>\n",
       "      <th>season</th>\n",
       "      <th>yr</th>\n",
       "      <th>mnth</th>\n",
       "      <th>hr</th>\n",
       "      <th>holiday</th>\n",
       "      <th>weekday</th>\n",
       "      <th>workingday</th>\n",
       "      <th>weathersit</th>\n",
       "      <th>temp</th>\n",
       "      <th>atemp</th>\n",
       "      <th>hum</th>\n",
       "      <th>windspeed</th>\n",
       "      <th>casual</th>\n",
       "      <th>registered</th>\n",
       "      <th>cnt</th>\n",
       "    </tr>\n",
       "  </thead>\n",
       "  <tbody>\n",
       "    <tr>\n",
       "      <th>0</th>\n",
       "      <td>1</td>\n",
       "      <td>2011-01-01</td>\n",
       "      <td>1</td>\n",
       "      <td>0</td>\n",
       "      <td>1</td>\n",
       "      <td>0</td>\n",
       "      <td>0</td>\n",
       "      <td>6</td>\n",
       "      <td>0</td>\n",
       "      <td>1</td>\n",
       "      <td>0.24</td>\n",
       "      <td>0.2879</td>\n",
       "      <td>0.81</td>\n",
       "      <td>0.0</td>\n",
       "      <td>3</td>\n",
       "      <td>13</td>\n",
       "      <td>16</td>\n",
       "    </tr>\n",
       "    <tr>\n",
       "      <th>1</th>\n",
       "      <td>2</td>\n",
       "      <td>2011-01-01</td>\n",
       "      <td>1</td>\n",
       "      <td>0</td>\n",
       "      <td>1</td>\n",
       "      <td>1</td>\n",
       "      <td>0</td>\n",
       "      <td>6</td>\n",
       "      <td>0</td>\n",
       "      <td>1</td>\n",
       "      <td>0.22</td>\n",
       "      <td>0.2727</td>\n",
       "      <td>0.80</td>\n",
       "      <td>0.0</td>\n",
       "      <td>8</td>\n",
       "      <td>32</td>\n",
       "      <td>40</td>\n",
       "    </tr>\n",
       "    <tr>\n",
       "      <th>2</th>\n",
       "      <td>3</td>\n",
       "      <td>2011-01-01</td>\n",
       "      <td>1</td>\n",
       "      <td>0</td>\n",
       "      <td>1</td>\n",
       "      <td>2</td>\n",
       "      <td>0</td>\n",
       "      <td>6</td>\n",
       "      <td>0</td>\n",
       "      <td>1</td>\n",
       "      <td>0.22</td>\n",
       "      <td>0.2727</td>\n",
       "      <td>0.80</td>\n",
       "      <td>0.0</td>\n",
       "      <td>5</td>\n",
       "      <td>27</td>\n",
       "      <td>32</td>\n",
       "    </tr>\n",
       "    <tr>\n",
       "      <th>3</th>\n",
       "      <td>4</td>\n",
       "      <td>2011-01-01</td>\n",
       "      <td>1</td>\n",
       "      <td>0</td>\n",
       "      <td>1</td>\n",
       "      <td>3</td>\n",
       "      <td>0</td>\n",
       "      <td>6</td>\n",
       "      <td>0</td>\n",
       "      <td>1</td>\n",
       "      <td>0.24</td>\n",
       "      <td>0.2879</td>\n",
       "      <td>0.75</td>\n",
       "      <td>0.0</td>\n",
       "      <td>3</td>\n",
       "      <td>10</td>\n",
       "      <td>13</td>\n",
       "    </tr>\n",
       "    <tr>\n",
       "      <th>4</th>\n",
       "      <td>5</td>\n",
       "      <td>2011-01-01</td>\n",
       "      <td>1</td>\n",
       "      <td>0</td>\n",
       "      <td>1</td>\n",
       "      <td>4</td>\n",
       "      <td>0</td>\n",
       "      <td>6</td>\n",
       "      <td>0</td>\n",
       "      <td>1</td>\n",
       "      <td>0.24</td>\n",
       "      <td>0.2879</td>\n",
       "      <td>0.75</td>\n",
       "      <td>0.0</td>\n",
       "      <td>0</td>\n",
       "      <td>1</td>\n",
       "      <td>1</td>\n",
       "    </tr>\n",
       "  </tbody>\n",
       "</table>\n",
       "</div>"
      ],
      "text/plain": [
       "   instant      dteday  season  yr  mnth  hr  holiday  weekday  workingday  \\\n",
       "0        1  2011-01-01       1   0     1   0        0        6           0   \n",
       "1        2  2011-01-01       1   0     1   1        0        6           0   \n",
       "2        3  2011-01-01       1   0     1   2        0        6           0   \n",
       "3        4  2011-01-01       1   0     1   3        0        6           0   \n",
       "4        5  2011-01-01       1   0     1   4        0        6           0   \n",
       "\n",
       "   weathersit  temp   atemp   hum  windspeed  casual  registered  cnt  \n",
       "0           1  0.24  0.2879  0.81        0.0       3          13   16  \n",
       "1           1  0.22  0.2727  0.80        0.0       8          32   40  \n",
       "2           1  0.22  0.2727  0.80        0.0       5          27   32  \n",
       "3           1  0.24  0.2879  0.75        0.0       3          10   13  \n",
       "4           1  0.24  0.2879  0.75        0.0       0           1    1  "
      ]
     },
     "execution_count": 1,
     "metadata": {},
     "output_type": "execute_result"
    }
   ],
   "source": [
    "import pandas as pd\n",
    "bike_rental = pd.read_csv(\"data-sets/bike_rental_hour.csv\")\n",
    "bike_rental.head()"
   ]
  },
  {
   "cell_type": "code",
   "execution_count": 28,
   "metadata": {
    "collapsed": false
   },
   "outputs": [
    {
     "data": {
      "image/png": "[encoded data removed]",
      "text/plain": [
       "<matplotlib.figure.Figure at 0x7f763c128780>"
      ]
     },
     "metadata": {},
     "output_type": "display_data"
    }
   ],
   "source": [
    "#plot a histrogram of the cnt column\n",
    "#to take a look of the distribution of total rentals\n",
    "\n",
    "import matplotlib.pyplot as plt\n",
    "%matplotlib inline\n",
    "plt.hist(bike_rental[\"cnt\"])\n",
    "plt.ylabel(\"Frequency\")\n",
    "plt.show()"
   ]
  },
  {
   "cell_type": "code",
   "execution_count": 3,
   "metadata": {
    "collapsed": false
   },
   "outputs": [
    {
     "data": {
      "text/plain": [
       "instant       0.278379\n",
       "season        0.178056\n",
       "yr            0.250495\n",
       "mnth          0.120638\n",
       "hr            0.394071\n",
       "holiday      -0.030927\n",
       "weekday       0.026900\n",
       "workingday    0.030284\n",
       "weathersit   -0.142426\n",
       "temp          0.404772\n",
       "atemp         0.400929\n",
       "hum          -0.322911\n",
       "windspeed     0.093234\n",
       "casual        0.694564\n",
       "registered    0.972151\n",
       "cnt           1.000000\n",
       "Name: cnt, dtype: float64"
      ]
     },
     "execution_count": 3,
     "metadata": {},
     "output_type": "execute_result"
    }
   ],
   "source": [
    "bike_rental.corr()[\"cnt\"]"
   ]
  },
  {
   "cell_type": "code",
   "execution_count": 27,
   "metadata": {
    "collapsed": false
   },
   "outputs": [],
   "source": [
    "'''We created the \"time label\" feature engineering converting \n",
    "   the 24-hour format into four 6-hour groups'''\n",
    "\n",
    "def assign_label(hour):\n",
    "    #Assigns labels based on hours\n",
    "    #1- Morning, 2- Afternoon, 3- Evening, 4- Night\n",
    "    if hour >= 0 and hour < 6:\n",
    "        return 4\n",
    "    elif hour >= 6 and hour < 12:\n",
    "        return 1\n",
    "    elif hour >= 12 and hour < 18:\n",
    "        return 2\n",
    "    elif hour >= 18 and hour <= 24:\n",
    "        return 3\n",
    "\n",
    "bike_rental[\"time_label\"] = bike_rental[\"hr\"].apply(assign_label)"
   ]
  },
  {
   "cell_type": "markdown",
   "metadata": {},
   "source": [
    "## Deciding on a metric\n",
    "\n",
    "Before training our model, we will split the data into train and test sets. We will use columns within the data to generate a list of features for our target label and drop the unneeded ones.   \n",
    "\n",
    "We will use the regression metric, mean squared error since we are making predictions on variables that are numeric and continuous. With the train and test sets created, the linear regression model will be created, trained, and tested."
   ]
  },
  {
   "cell_type": "code",
   "execution_count": 5,
   "metadata": {
    "collapsed": true
   },
   "outputs": [],
   "source": [
    "from sklearn.linear_model import LinearRegression\n",
    "import numpy as np\n",
    "\n",
    "#create train and test set\n",
    "train = bike_rental.sample(frac=.8)\n",
    "test = bike_rental.loc[~bike_rental.index.isin(train.index)]\n",
    "\n",
    "#arrange the columns we want for regression\n",
    "predict_list = list(train.columns)\n",
    "remove_cols = {\"cnt\", \"dteday\", \"casual\", \"registered\"}\n",
    "predict_list = [train_cols for train_cols in predict_list if train_cols not in remove_cols]"
   ]
  },
  {
   "cell_type": "code",
   "execution_count": 17,
   "metadata": {
    "collapsed": false
   },
   "outputs": [
    {
     "name": "stdout",
     "output_type": "stream",
     "text": [
      "Mean Squared Error: 18170.074692270962\n",
      "Root Squared Error: 134.79641943416362\n"
     ]
    }
   ],
   "source": [
    "model = LinearRegression()\n",
    "model.fit(train[predict_list], train[\"cnt\"])\n",
    "predictions = model.predict(test[predict_list])\n",
    "mse = np.mean((predictions - test[\"cnt\"]) ** 2)\n",
    "rmse = mse ** .5\n",
    "print(\"Mean Squared Error: {0}\".format(mse))\n",
    "print(\"Root Squared Error: {0}\".format(rmse))"
   ]
  },
  {
   "cell_type": "markdown",
   "metadata": {},
   "source": [
    "## Findings\n",
    "The error value is high compared to the prediction values. The dataset has a few exceptionally high bike rentals. The MSE computes these values and penalizes them leading to a higher score.  "
   ]
  },
  {
   "cell_type": "markdown",
   "metadata": {},
   "source": [
    "## Decision Tree Model\n",
    "\n",
    "Both train and test sets applied to the Decision Tree to see if it is more accurate compared to the Linear model. After training and testing the initial model, we will use another Decision Tree model and tweak its hyperparameters to gauge for more accuracy."
   ]
  },
  {
   "cell_type": "code",
   "execution_count": 22,
   "metadata": {
    "collapsed": false
   },
   "outputs": [
    {
     "name": "stdout",
     "output_type": "stream",
     "text": [
      "Decision Tree Regression Results\n",
      "Mean Squared Error: 3131.186996547756\n",
      "Root Squared Error: 55.957010253834646\n",
      "\n",
      "\n",
      "Tweaked Decision Tree Regression Results\n",
      "Mean Squared Error: 2844.7562939570257\n",
      "Root Squared Error: 53.33625684238655\n"
     ]
    }
   ],
   "source": [
    "from sklearn.tree import DecisionTreeRegressor\n",
    "\n",
    "#create a decision tree model, train and test it\n",
    "regression = DecisionTreeRegressor()\n",
    "regression.fit(train[predict_list], train[\"cnt\"])\n",
    "predict = regression.predict(test[predict_list])\n",
    "mse = np.mean((predict - test[\"cnt\"]) ** 2)\n",
    "rmse = mse ** .5\n",
    "\n",
    "print(\"Decision Tree Regression Results\")\n",
    "print(\"Mean Squared Error: {0}\".format(mse))\n",
    "print(\"Root Squared Error: {0}\".format(rmse))\n",
    "print(\"\\n\")\n",
    "\n",
    "#tweak model to improve accuracy\n",
    "regression = DecisionTreeRegressor(min_samples_leaf=15, max_depth=20)\n",
    "regression.fit(train[predict_list], train[\"cnt\"])\n",
    "predict = regression.predict(test[predict_list])\n",
    "mse = np.mean((predict - test[\"cnt\"]) ** 2)\n",
    "rmse = mse ** .5\n",
    "\n",
    "print(\"Tweaked Decision Tree Regression Results\")\n",
    "print(\"Mean Squared Error: {0}\".format(mse))\n",
    "print(\"Root Squared Error: {0}\".format(rmse))"
   ]
  },
  {
   "cell_type": "markdown",
   "metadata": {},
   "source": [
    "## Findings - Decision Tree Error\n",
    "The decision tree seems to be more reliable in estimating predictions compared to the linear model due to the model complexity."
   ]
  },
  {
   "cell_type": "markdown",
   "metadata": {},
   "source": [
    "## Random Forest Model\n",
    "\n",
    "Similar to the model above, we will train and test the data to the Random Forest model in hopes to get a more accurate prediction."
   ]
  },
  {
   "cell_type": "code",
   "execution_count": 25,
   "metadata": {
    "collapsed": false
   },
   "outputs": [
    {
     "name": "stdout",
     "output_type": "stream",
     "text": [
      "Random Forest Regression Results\n",
      "Mean Squared Error: 1746.537839470652\n",
      "Root Squared Error: 41.79160010660817\n",
      "\n",
      "\n",
      "Tweaked Random Forest Regression Results\n",
      "Mean Squared Error: 2452.4316511041343\n",
      "Root Squared Error: 49.52203197672864\n"
     ]
    }
   ],
   "source": [
    "from sklearn.ensemble import RandomForestRegressor\n",
    "\n",
    "#create a random forest model, train and test it\n",
    "rf = RandomForestRegressor()\n",
    "rf.fit(train[predict_list], train[\"cnt\"])\n",
    "predict = rf.predict(test[predict_list])\n",
    "mse = np.mean((predict - test[\"cnt\"]) ** 2)\n",
    "rmse = mse ** .5\n",
    "\n",
    "print(\"Random Forest Regression Results\")\n",
    "print(\"Mean Squared Error: {0}\".format(mse))\n",
    "print(\"Root Squared Error: {0}\".format(rmse))\n",
    "print(\"\\n\")\n",
    "\n",
    "#tweak model hoping to get a more accurate prediction\n",
    "rf = RandomForestRegressor(min_samples_leaf=5, max_depth=10)\n",
    "rf.fit(train[predict_list], train[\"cnt\"])\n",
    "predict = rf.predict(test[predict_list])\n",
    "mse = np.mean((predict - test[\"cnt\"]) ** 2)\n",
    "rmse = mse ** .5\n",
    "\n",
    "print(\"Tweaked Random Forest Regression Results\")\n",
    "print(\"Mean Squared Error: {0}\".format(mse))\n",
    "print(\"Root Squared Error: {0}\".format(rmse))"
   ]
  },
  {
   "cell_type": "markdown",
   "metadata": {},
   "source": [
    "## Findings - Random Forest Error\n",
    "\n",
    "The random forest model improved the accuracy immensely in comparison to the decision tree model by removing some sources of overfitting. However, tweaking the model led to a more unfortunate outcome. More time could be spent tuning the hyperparameters to increase the model's accuracy."
   ]
  }
 ],
 "metadata": {
  "kernelspec": {
   "display_name": "Python 3",
   "language": "python",
   "name": "python3"
  },
  "language_info": {
   "codemirror_mode": {
    "name": "ipython",
    "version": 3
   },
   "file_extension": ".py",
   "mimetype": "text/x-python",
   "name": "python",
   "nbconvert_exporter": "python",
   "pygments_lexer": "ipython3",
   "version": "3.6.0"
  }
 },
 "nbformat": 4,
 "nbformat_minor": 2
}
