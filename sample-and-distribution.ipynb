{
 "cells": [
  {
   "cell_type": "markdown",
   "metadata": {},
   "source": [
    "## Sampling Income in the US"
   ]
  },
  {
   "cell_type": "code",
   "execution_count": 7,
   "metadata": {
    "collapsed": false
   },
   "outputs": [
    {
     "data": {
      "text/html": [
       "<div>\n",
       "<table border=\"1\" class=\"dataframe\">\n",
       "  <thead>\n",
       "    <tr style=\"text-align: right;\">\n",
       "      <th></th>\n",
       "      <th>id</th>\n",
       "      <th>county</th>\n",
       "      <th>pop_over_25</th>\n",
       "      <th>median_income</th>\n",
       "      <th>median_income_no_hs</th>\n",
       "      <th>median_income_hs</th>\n",
       "      <th>median_income_some_college</th>\n",
       "      <th>median_income_college</th>\n",
       "      <th>median_income_graduate_degree</th>\n",
       "    </tr>\n",
       "  </thead>\n",
       "  <tbody>\n",
       "    <tr>\n",
       "      <th>0</th>\n",
       "      <td>1001</td>\n",
       "      <td>Autauga County, Alabama</td>\n",
       "      <td>35696</td>\n",
       "      <td>34581</td>\n",
       "      <td>17946</td>\n",
       "      <td>30157</td>\n",
       "      <td>33225</td>\n",
       "      <td>53248</td>\n",
       "      <td>68125</td>\n",
       "    </tr>\n",
       "    <tr>\n",
       "      <th>1</th>\n",
       "      <td>1003</td>\n",
       "      <td>Baldwin County, Alabama</td>\n",
       "      <td>130063</td>\n",
       "      <td>31352</td>\n",
       "      <td>17474</td>\n",
       "      <td>25242</td>\n",
       "      <td>30922</td>\n",
       "      <td>46017</td>\n",
       "      <td>55933</td>\n",
       "    </tr>\n",
       "    <tr>\n",
       "      <th>2</th>\n",
       "      <td>1005</td>\n",
       "      <td>Barbour County, Alabama</td>\n",
       "      <td>18988</td>\n",
       "      <td>25182</td>\n",
       "      <td>20692</td>\n",
       "      <td>21325</td>\n",
       "      <td>24090</td>\n",
       "      <td>41888</td>\n",
       "      <td>50245</td>\n",
       "    </tr>\n",
       "    <tr>\n",
       "      <th>3</th>\n",
       "      <td>1007</td>\n",
       "      <td>Bibb County, Alabama</td>\n",
       "      <td>15340</td>\n",
       "      <td>27638</td>\n",
       "      <td>22274</td>\n",
       "      <td>28980</td>\n",
       "      <td>22387</td>\n",
       "      <td>30284</td>\n",
       "      <td>42236</td>\n",
       "    </tr>\n",
       "    <tr>\n",
       "      <th>4</th>\n",
       "      <td>1009</td>\n",
       "      <td>Blount County, Alabama</td>\n",
       "      <td>38846</td>\n",
       "      <td>32808</td>\n",
       "      <td>24870</td>\n",
       "      <td>27541</td>\n",
       "      <td>34660</td>\n",
       "      <td>48681</td>\n",
       "      <td>53664</td>\n",
       "    </tr>\n",
       "  </tbody>\n",
       "</table>\n",
       "</div>"
      ],
      "text/plain": [
       "     id                   county  pop_over_25  median_income  \\\n",
       "0  1001  Autauga County, Alabama        35696          34581   \n",
       "1  1003  Baldwin County, Alabama       130063          31352   \n",
       "2  1005  Barbour County, Alabama        18988          25182   \n",
       "3  1007     Bibb County, Alabama        15340          27638   \n",
       "4  1009   Blount County, Alabama        38846          32808   \n",
       "\n",
       "   median_income_no_hs  median_income_hs  median_income_some_college  \\\n",
       "0                17946             30157                       33225   \n",
       "1                17474             25242                       30922   \n",
       "2                20692             21325                       24090   \n",
       "3                22274             28980                       22387   \n",
       "4                24870             27541                       34660   \n",
       "\n",
       "   median_income_college  median_income_graduate_degree  \n",
       "0                  53248                          68125  \n",
       "1                  46017                          55933  \n",
       "2                  41888                          50245  \n",
       "3                  30284                          42236  \n",
       "4                  48681                          53664  "
      ]
     },
     "execution_count": 7,
     "metadata": {},
     "output_type": "execute_result"
    }
   ],
   "source": [
    "#Import libraries and read the data set\n",
    "\n",
    "import pandas as pd\n",
    "import matplotlib.pyplot as plt\n",
    "import numpy as np\n",
    "import random\n",
    "\n",
    "income = pd.read_csv(\"data-sets/us_income.csv\")\n",
    "income.head()"
   ]
  },
  {
   "cell_type": "code",
   "execution_count": 2,
   "metadata": {
    "collapsed": false
   },
   "outputs": [
    {
     "data": {
      "text/html": [
       "<div>\n",
       "<table border=\"1\" class=\"dataframe\">\n",
       "  <thead>\n",
       "    <tr style=\"text-align: right;\">\n",
       "      <th></th>\n",
       "      <th>id</th>\n",
       "      <th>pop_over_25</th>\n",
       "      <th>median_income</th>\n",
       "      <th>median_income_no_hs</th>\n",
       "      <th>median_income_hs</th>\n",
       "      <th>median_income_some_college</th>\n",
       "      <th>median_income_college</th>\n",
       "      <th>median_income_graduate_degree</th>\n",
       "    </tr>\n",
       "  </thead>\n",
       "  <tbody>\n",
       "    <tr>\n",
       "      <th>count</th>\n",
       "      <td>3143.000000</td>\n",
       "      <td>3.143000e+03</td>\n",
       "      <td>3143.000000</td>\n",
       "      <td>3143.000000</td>\n",
       "      <td>3143.000000</td>\n",
       "      <td>3143.000000</td>\n",
       "      <td>3143.000000</td>\n",
       "      <td>3143.000000</td>\n",
       "    </tr>\n",
       "    <tr>\n",
       "      <th>mean</th>\n",
       "      <td>30390.411709</td>\n",
       "      <td>6.572951e+04</td>\n",
       "      <td>31063.093859</td>\n",
       "      <td>19630.878142</td>\n",
       "      <td>26758.512568</td>\n",
       "      <td>30876.868279</td>\n",
       "      <td>42329.827871</td>\n",
       "      <td>53968.476933</td>\n",
       "    </tr>\n",
       "    <tr>\n",
       "      <th>std</th>\n",
       "      <td>15164.717720</td>\n",
       "      <td>2.079347e+05</td>\n",
       "      <td>5841.352108</td>\n",
       "      <td>4775.434495</td>\n",
       "      <td>4146.384694</td>\n",
       "      <td>5075.068036</td>\n",
       "      <td>7732.969678</td>\n",
       "      <td>11129.528672</td>\n",
       "    </tr>\n",
       "    <tr>\n",
       "      <th>min</th>\n",
       "      <td>1001.000000</td>\n",
       "      <td>6.500000e+01</td>\n",
       "      <td>17139.000000</td>\n",
       "      <td>2500.000000</td>\n",
       "      <td>6250.000000</td>\n",
       "      <td>12298.000000</td>\n",
       "      <td>11852.000000</td>\n",
       "      <td>2500.000000</td>\n",
       "    </tr>\n",
       "    <tr>\n",
       "      <th>25%</th>\n",
       "      <td>18178.000000</td>\n",
       "      <td>7.537000e+03</td>\n",
       "      <td>27279.500000</td>\n",
       "      <td>16753.000000</td>\n",
       "      <td>24323.000000</td>\n",
       "      <td>27340.500000</td>\n",
       "      <td>37589.500000</td>\n",
       "      <td>47665.500000</td>\n",
       "    </tr>\n",
       "    <tr>\n",
       "      <th>50%</th>\n",
       "      <td>29177.000000</td>\n",
       "      <td>1.747700e+04</td>\n",
       "      <td>30399.000000</td>\n",
       "      <td>19466.000000</td>\n",
       "      <td>26427.000000</td>\n",
       "      <td>30767.000000</td>\n",
       "      <td>41812.000000</td>\n",
       "      <td>53214.000000</td>\n",
       "    </tr>\n",
       "    <tr>\n",
       "      <th>75%</th>\n",
       "      <td>45082.000000</td>\n",
       "      <td>4.475750e+04</td>\n",
       "      <td>33139.500000</td>\n",
       "      <td>21961.500000</td>\n",
       "      <td>29244.000000</td>\n",
       "      <td>33247.000000</td>\n",
       "      <td>46071.000000</td>\n",
       "      <td>59448.500000</td>\n",
       "    </tr>\n",
       "    <tr>\n",
       "      <th>max</th>\n",
       "      <td>56045.000000</td>\n",
       "      <td>6.456772e+06</td>\n",
       "      <td>73822.000000</td>\n",
       "      <td>60728.000000</td>\n",
       "      <td>65833.000000</td>\n",
       "      <td>66035.000000</td>\n",
       "      <td>91364.000000</td>\n",
       "      <td>130250.000000</td>\n",
       "    </tr>\n",
       "  </tbody>\n",
       "</table>\n",
       "</div>"
      ],
      "text/plain": [
       "                 id   pop_over_25  median_income  median_income_no_hs  \\\n",
       "count   3143.000000  3.143000e+03    3143.000000          3143.000000   \n",
       "mean   30390.411709  6.572951e+04   31063.093859         19630.878142   \n",
       "std    15164.717720  2.079347e+05    5841.352108          4775.434495   \n",
       "min     1001.000000  6.500000e+01   17139.000000          2500.000000   \n",
       "25%    18178.000000  7.537000e+03   27279.500000         16753.000000   \n",
       "50%    29177.000000  1.747700e+04   30399.000000         19466.000000   \n",
       "75%    45082.000000  4.475750e+04   33139.500000         21961.500000   \n",
       "max    56045.000000  6.456772e+06   73822.000000         60728.000000   \n",
       "\n",
       "       median_income_hs  median_income_some_college  median_income_college  \\\n",
       "count       3143.000000                 3143.000000            3143.000000   \n",
       "mean       26758.512568                30876.868279           42329.827871   \n",
       "std         4146.384694                 5075.068036            7732.969678   \n",
       "min         6250.000000                12298.000000           11852.000000   \n",
       "25%        24323.000000                27340.500000           37589.500000   \n",
       "50%        26427.000000                30767.000000           41812.000000   \n",
       "75%        29244.000000                33247.000000           46071.000000   \n",
       "max        65833.000000                66035.000000           91364.000000   \n",
       "\n",
       "       median_income_graduate_degree  \n",
       "count                    3143.000000  \n",
       "mean                    53968.476933  \n",
       "std                     11129.528672  \n",
       "min                      2500.000000  \n",
       "25%                     47665.500000  \n",
       "50%                     53214.000000  \n",
       "75%                     59448.500000  \n",
       "max                    130250.000000  "
      ]
     },
     "execution_count": 2,
     "metadata": {},
     "output_type": "execute_result"
    }
   ],
   "source": [
    "income.describe()"
   ]
  },
  {
   "cell_type": "markdown",
   "metadata": {},
   "source": [
    "Nothing seems to be out of the ordinary. Let's check and see if there any rows with missing data."
   ]
  },
  {
   "cell_type": "code",
   "execution_count": 4,
   "metadata": {
    "collapsed": false
   },
   "outputs": [
    {
     "data": {
      "text/plain": [
       "id                               0\n",
       "county                           0\n",
       "pop_over_25                      0\n",
       "median_income                    0\n",
       "median_income_no_hs              0\n",
       "median_income_hs                 0\n",
       "median_income_some_college       0\n",
       "median_income_college            0\n",
       "median_income_graduate_degree    0\n",
       "dtype: int64"
      ]
     },
     "execution_count": 4,
     "metadata": {},
     "output_type": "execute_result"
    }
   ],
   "source": [
    "income.apply(lambda x: sum(x.isnull()))"
   ]
  },
  {
   "cell_type": "code",
   "execution_count": 6,
   "metadata": {
    "collapsed": false
   },
   "outputs": [
    {
     "name": "stdout",
     "output_type": "stream",
     "text": [
      "Starr County, Texas\n",
      "Miami-Dade County, Florida\n"
     ]
    }
   ],
   "source": [
    "#Check which county has the lowest median income\n",
    "\n",
    "lowest_income_county = income[\"county\"][income[\"median_income\"].idxmin()]\n",
    "\n",
    "#Check which county has the lowest median income with a population above 500000\n",
    "high_pop = income[income[\"pop_over_25\"] > 500000]\n",
    "lowest_income_high_pop = high_pop[\"county\"][high_pop[\"median_income\"].idxmin()]\n",
    "\n",
    "print(lowest_income_county)\n",
    "print(lowest_income_high_pop)"
   ]
  },
  {
   "cell_type": "markdown",
   "metadata": {},
   "source": [
    "The results--especially the second one--are surprising. I did not expect Miami-Dade County to have the lowest median income with a population exceeding 500,000. A possible cause could be that Florida has the second fewest natives of any state."
   ]
  },
  {
   "cell_type": "markdown",
   "metadata": {},
   "source": [
    "## Mean ratio income of high school and college graduates"
   ]
  },
  {
   "cell_type": "code",
   "execution_count": 57,
   "metadata": {
    "collapsed": false
   },
   "outputs": [
    {
     "data": {
      "image/png": "[encoded data removed]",
      "text/plain": [
       "<matplotlib.figure.Figure at 0x7faf20c2c4e0>"
      ]
     },
     "metadata": {},
     "output_type": "display_data"
    }
   ],
   "source": [
    "#Grab the mean ratios and append them to a list\n",
    "\n",
    "random.seed(2)\n",
    "mean_ratios = []\n",
    "\n",
    "for i in range(1000):\n",
    "    sample = get_random_sample(100)\n",
    "    hs_college_ratio = sample[\"median_income_hs\"] / sample[\"median_income_college\"]\n",
    "    mean_ratios.append(hs_college_ratio.mean())\n",
    "plt.hist(mean_ratios, 20)\n",
    "plt.show()"
   ]
  },
  {
   "cell_type": "markdown",
   "metadata": {},
   "source": [
    "## Experimenting with sampling and statistical analysis\n",
    "\n",
    "Just a hypothetical example. Suppose the government enacted a 5-year program that enabled high school graduates to increase their income relative to college graduates. For simplicity sake, we will calculate the current income ratio of high school graduates and college graduates and increase that rate to 2.5%. Then we use the significance value to determine if our hypothesis is a success. Along the way I will do the following:\n",
    "\n",
    "* Determine the \"median_income\" mean through sampling 100 counties.\n",
    "* Check how much high school graduates earn relative to college graduates and test the ratio with the significance value."
   ]
  },
  {
   "cell_type": "code",
   "execution_count": 20,
   "metadata": {
    "collapsed": false
   },
   "outputs": [
    {
     "data": {
      "text/plain": [
       "31063.09"
      ]
     },
     "execution_count": 20,
     "metadata": {},
     "output_type": "execute_result"
    }
   ],
   "source": [
    "#Obtain the mean of median_income\n",
    "np.round(income[\"median_income\"].mean(),2)"
   ]
  },
  {
   "cell_type": "code",
   "execution_count": 10,
   "metadata": {
    "collapsed": true
   },
   "outputs": [],
   "source": [
    "#Create a function to select random samples\n",
    "\n",
    "def get_random_sample(count):\n",
    "    random_sample = random.sample(range(0, income.shape[0]), count)\n",
    "    return income.iloc[random_sample]"
   ]
  },
  {
   "cell_type": "code",
   "execution_count": 12,
   "metadata": {
    "collapsed": false
   },
   "outputs": [
    {
     "data": {
      "image/png": "[encoded data removed]",
      "text/plain": [
       "<matplotlib.figure.Figure at 0x7faf4cc33198>"
      ]
     },
     "metadata": {},
     "output_type": "display_data"
    }
   ],
   "source": [
    "#Obtain mean of median income and graph it\n",
    "\n",
    "random.seed(1)\n",
    "random_income = [get_random_sample(100)[\"median_income\"].mean() for i in range(1000)]\n",
    "plt.hist(random_income, 20)\n",
    "plt.show()"
   ]
  },
  {
   "cell_type": "code",
   "execution_count": 52,
   "metadata": {
    "collapsed": false
   },
   "outputs": [
    {
     "data": {
      "text/plain": [
       "67.5"
      ]
     },
     "execution_count": 52,
     "metadata": {},
     "output_type": "execute_result"
    }
   ],
   "source": [
    "ratio = income[\"median_income_hs\"] / income[\"median_income_college\"]\n",
    "np.round(ratio.mean(),2) * 100 + 2.5"
   ]
  },
  {
   "cell_type": "code",
   "execution_count": 54,
   "metadata": {
    "collapsed": false
   },
   "outputs": [
    {
     "data": {
      "text/plain": [
       "0.016"
      ]
     },
     "execution_count": 54,
     "metadata": {},
     "output_type": "execute_result"
    }
   ],
   "source": [
    "#Compare the list of mean_ratios to our result ratio\n",
    "\n",
    "significance_value = None\n",
    "mean = len([m for m in mean_ratios if m >= .675])\n",
    "significance_value = mean / len(mean_ratios)\n",
    "significance_value"
   ]
  },
  {
   "cell_type": "markdown",
   "metadata": {},
   "source": [
    "## Findings \n",
    "\n",
    "We have determined the mean ratio in our random sample of 100 counties that the \"median_income\" is \\$31,063.09. Our significance value is 0.016. Based on the population sample, 1.6% of the time the wage results improved on their own. The experiment exceeded the significance value; therefore, the program improved the earnings of high school graduates relative to college graduates. "
   ]
  }
 ],
 "metadata": {
  "kernelspec": {
   "display_name": "Python 3",
   "language": "python",
   "name": "python3"
  },
  "language_info": {
   "codemirror_mode": {
    "name": "ipython",
    "version": 3
   },
   "file_extension": ".py",
   "mimetype": "text/x-python",
   "name": "python",
   "nbconvert_exporter": "python",
   "pygments_lexer": "ipython3",
   "version": "3.6.0"
  }
 },
 "nbformat": 4,
 "nbformat_minor": 2
}
